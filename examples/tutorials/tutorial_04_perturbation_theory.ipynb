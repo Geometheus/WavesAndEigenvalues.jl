{
 "cells": [
  {
   "cell_type": "markdown",
   "metadata": {},
   "source": [
    "# Tutorial 04 Perturbation Theory\n",
    "\n",
    "## Introduction\n",
    "\n",
    "This tutorial demonstrates how perturbation theory is utilized using the\n",
    "WavesAndEigenvalues package. You may ask: 'What is perturbation theory?'\n",
    "Well, perturbation theory deals with the approximation of a solution of a\n",
    "mathematical problem based on a *known* solution of a problem similar to the\n",
    "problem of interest. (Puhh, that was a long sentence...) The problem is said\n",
    "to be perturbed from a baseline solution.\n",
    "You can find a comprehensive presentation of the internal algorithms in\n",
    "[1,2,3].\n",
    "## Model set-up and baseline-solution\n",
    "The model is the same Rijke tube configuration as in Tutorial 01:"
   ]
  },
  {
   "cell_type": "code",
   "execution_count": 1,
   "metadata": {},
   "outputs": [
    {
     "data": {
      "text/plain": [
       "1006×1006-dimensional operator family: \n",
       "\n",
       "ω^2*M+K+n*exp(-iωτ)*Q+ω*Y*C\n",
       "\n",
       "Parameters\n",
       "----------\n",
       "n\t0.01 + 0.0im\n",
       "λ\tInf + 0.0im\n",
       "ω\t0.0 + 0.0im\n",
       "τ\t0.001 + 0.0im\n",
       "Y\t1.0e15 + 0.0im\n"
      ]
     },
     "execution_count": 1,
     "metadata": {},
     "output_type": "execute_result"
    }
   ],
   "source": [
    "using WavesAndEigenvalues.Helmholtz\n",
    "mesh=Mesh(\"Rijke_mm.msh\",scale=0.001) #load mesh\n",
    "dscrp=Dict() #initialize model descriptor\n",
    "dscrp[\"Interior\"]=(:interior, ()) #define resonant cavity\n",
    "dscrp[\"Outlet\"]=(:admittance, (:Y,1E15)) #specify outlet BC\n",
    "γ=1.4 #ratio of specific heats\n",
    "ρ=1.225 #density at the reference location upstream to the flame in kg/m^3\n",
    "Tu=300.0    #K unburnt gas temperature\n",
    "Tb=1200.0    #K burnt gas temperature\n",
    "P0=101325.0 # ambient pressure in Pa\n",
    "A=pi*0.025^2 # cross sectional area of the tube\n",
    "Q02U0=P0*(Tb/Tu-1)*A*γ/(γ-1) #the ratio of mean heat release to mean velocity Q02U0\n",
    "x_ref=[0.0; 0.0; -0.00101] #reference point\n",
    "n_ref=[0.0; 0.0; 1.00] #directional unit vector of reference velocity\n",
    "n=0.01 #interaction index\n",
    "τ=0.001 #time delay\n",
    "dscrp[\"Flame\"]=(:flame,(γ,ρ,Q02U0,x_ref,n_ref,:n,:τ,n,τ)) #flame dynamics\n",
    "R=287.05 # J/(kg*K) specific gas constant (air)\n",
    "speedofsound(x,y,z) = z<0. ? sqrt(γ*R*Tu) : sqrt(γ*R*Tb)\n",
    "c=generate_field(mesh,speedofsound)\n",
    "L=discretize(mesh,dscrp,c)"
   ]
  },
  {
   "cell_type": "markdown",
   "metadata": {},
   "source": [
    "To obtain a baseline solution we solve it using the housholder iteration with\n",
    "a very small stopping tollerance of `tol=1E-11`."
   ]
  },
  {
   "cell_type": "markdown",
   "metadata": {},
   "source": [
    "$$\\frac{\\textbf{c}\\mathcal{Z}}{\\rho}$$"
   ]
  },
  {
   "cell_type": "code",
   "execution_count": 4,
   "metadata": {},
   "outputs": [
    {
     "data": {
      "text/plain": [
       "1006×1006-dimensional operator family: \n",
       "\n",
       "ω^2*M+K+n*exp(-iωτ)*Q+ω*Y*C\n",
       "\n",
       "Parameters\n",
       "----------\n",
       "n\t0.01 + 0.0im\n",
       "λ\tInf + 0.0im\n",
       "ω\t0.0 + 0.0im\n",
       "τ\t0.001 + 0.0im\n",
       "Y\t1.0e15 + 0.0im\n"
      ]
     },
     "execution_count": 4,
     "metadata": {},
     "output_type": "execute_result"
    }
   ],
   "source": [
    "L"
   ]
  },
  {
   "cell_type": "code",
   "execution_count": 2,
   "metadata": {},
   "outputs": [
    {
     "name": "stdout",
     "output_type": "stream",
     "text": [
      "Launching Householder...\n",
      "Iter    Res:     dz:     z:\n",
      "----------------------------------\n",
      "0\t\tInf\tInf\t2136.2830044410593\n",
      "1\t\t1.6243873211323859e6\t382.7295713806868\t1753.640443755553 + 8.160610349893785im\n",
      "2\t\t147442.983718491\t42.4349412389508\t1711.2293969397867 + 9.58445933911067im\n",
      "3\t\t1804.6396540359215\t0.5324135895092171\t1710.6978605746078 + 9.615009671129867im\n",
      "4\t\t0.2839458865676277\t8.379743964634571e-5\t1710.6977772393602 + 9.615018460179712im\n",
      "5\t\t8.143682507364851e-8\t2.41248261659281e-11\t1710.6977772393368 + 9.615018460173921im\n",
      "6\t\t4.3310085898795686e-8\t1.2747836831060415e-11\t1710.6977772393495 + 9.615018460173305im\n",
      "7\t\t1.1278530775405552e-8\t3.4155092541817112e-12\t1710.6977772393461 + 9.615018460173488im\n",
      "Warning: Slow convergence!\n",
      "...finished Householder!\n",
      "#####################\n",
      " Householder results \n",
      "#####################\n",
      "Number of steps: 7\n",
      "Last step parameter variation:3.4155092541817112e-12\n",
      "Auxiliary eigenvalue λ residual (rhs):1.1278530775405552e-8\n",
      "Eigenvalue:1710.6977772393461 + 9.615018460173488im\n",
      "Eigenvalue/(2*pi):272.26600738395996 + 1.5302777158564347im\n"
     ]
    },
    {
     "data": {
      "text/plain": [
       "(####Solution####\n",
       "eigval:\n",
       "ω = 1710.6977772393461 + 9.615018460173488im\n",
       "\n",
       "Parameters:\n",
       "n = 0.01 + 0.0im\n",
       "τ = 0.001 + 0.0im\n",
       "Y = 1.0e15 + 0.0im\n",
       "\n",
       "Residual:\n",
       "abs(λ) = 1.1278530775405552e-8, 7, 0)"
      ]
     },
     "execution_count": 2,
     "metadata": {},
     "output_type": "execute_result"
    }
   ],
   "source": [
    "sol,nn,flag=householder(L,340*2*pi,maxiter=20,tol=1E-11)"
   ]
  },
  {
   "cell_type": "markdown",
   "metadata": {},
   "source": [
    "this small tolerance is necessary because as the name suggests the base-line\n",
    "solution is the basis to our subsequent steps. If it is inaccurate we will\n",
    "definetly also encounter inaccurate approximations to other configurations\n",
    "than the base-line set-up.\n",
    "## Taylor series\n",
    "\n",
    "Probably, you are somewhat familiar with the concept of Taylor series\n",
    "which is a basic example of perturbation theory. There is some function\n",
    "f from which the value f(x0) is known together with some derivatives at the\n",
    "same point, the first N say. Then, we can approximate f(x0+Δ) as:\n",
    "\n",
    "f(x0+Δ)≈∑_n=0^N f_n(x0)Δ^n"
   ]
  },
  {
   "cell_type": "markdown",
   "metadata": {},
   "source": [
    "Let's consider the time delay `τ`. Our problem depends exponentially on this\n",
    "value.  We can utilize a fast perturbation algorithm to compute the first\n",
    "20 Taylor-series coefficients of the eigenfrequency `ω` w.r.t. `τ` by just\n",
    "typing"
   ]
  },
  {
   "cell_type": "code",
   "execution_count": 3,
   "metadata": {},
   "outputs": [
    {
     "name": "stdout",
     "output_type": "stream",
     "text": [
      "order: 1, time: 0.37183690071105957\n",
      "order: 2, time: 0.5182919502258301\n",
      "order: 3, time: 0.5571959018707275\n",
      "order: 4, time: 0.601301908493042\n",
      "order: 5, time: 0.6115520000457764\n",
      "order: 6, time: 0.6165158748626709\n",
      "order: 7, time: 0.6420488357543945\n",
      "order: 8, time: 0.6583240032196045\n",
      "order: 9, time: 0.6835930347442627\n",
      "order: 10, time: 0.7013659477233887\n",
      "order: 11, time: 0.7360508441925049\n",
      "order: 12, time: 0.7775800228118896\n",
      "order: 13, time: 0.8279268741607666\n",
      "order: 14, time: 0.8866078853607178\n",
      "order: 15, time: 0.9678909778594971\n",
      "order: 16, time: 1.0668530464172363\n",
      "order: 17, time: 1.2475378513336182\n",
      "order: 18, time: 1.4663429260253906\n",
      "order: 19, time: 1.7090840339660645\n",
      "order: 20, time: 1.981881856918335\n"
     ]
    }
   ],
   "source": [
    "perturb_fast!(sol,L,:τ,20)"
   ]
  },
  {
   "cell_type": "markdown",
   "metadata": {},
   "source": [
    "The output shows you how long it takes to compute the coefficients.\n",
    "Obviously, it takes longer and longer for higher order coefficients.\n",
    "Note, that there is also an algorithm `perturb!(sol,L,:τ,20)` which does\n",
    "exactly the same as the fast algorithm but is slower, when it comes to high\n",
    "orders (N>5)."
   ]
  },
  {
   "cell_type": "markdown",
   "metadata": {},
   "source": [
    "Both algorithms populate a field in the solution object holding the Taylor\n",
    "coefficients."
   ]
  },
  {
   "cell_type": "code",
   "execution_count": 4,
   "metadata": {},
   "outputs": [
    {
     "data": {
      "text/plain": [
       "Dict{Symbol,Any} with 1 entry:\n",
       "  Symbol(\"τ/Taylor\") => Complex{Float64}[1710.7+9.61502im, 16655.8-1972.54im, -…"
      ]
     },
     "execution_count": 4,
     "metadata": {},
     "output_type": "execute_result"
    }
   ],
   "source": [
    "sol.eigval_pert"
   ]
  },
  {
   "cell_type": "code",
   "execution_count": 7,
   "metadata": {},
   "outputs": [
    {
     "data": {
      "text/plain": [
       "21-element Array{Complex{Float64},1}:\n",
       "     1710.6977772393461 + 9.615018460173488im\n",
       "     16655.767682558846 - 1972.5369656026314im\n",
       "  -1.2612982476560106e6 - 1.46322883044807e7im\n",
       "   -8.808906967838312e9 + 1.1615582738796182e8im\n",
       "  -5.873840733061559e11 + 4.175332269859226e12im\n",
       "  1.7004887170778765e15 + 7.439153396440475e14im\n",
       "   6.058284950153509e17 - 6.190897825855365e17im\n",
       " -1.8938118510974376e20 - 4.003170158460829e20im\n",
       " -2.3191390766688626e23 + 2.898858067332429e22im\n",
       "  -2.275112427776431e25 + 1.2162923188570618e26im\n",
       "   5.799143769580233e28 + 3.183913640454199e28im\n",
       "  2.6380804905911956e31 - 2.44451708180038e31im\n",
       "  -8.222422195967745e33 - 1.8038057337062285e34im\n",
       " -1.0957581029026753e37 + 1.211309773723197e36im\n",
       " -1.2703381232412134e39 + 6.041956342213871e39im\n",
       "   3.012726806969943e42 + 1.744584592236548e42im\n",
       "  1.4744387490957574e45 - 1.3149324622042034e45im\n",
       " -4.5028654465230355e47 - 1.0334597113739691e48im\n",
       "  -6.434729914382895e50 + 6.048576186744849e49im\n",
       "  -8.243537285189499e52 + 3.6288343760940155e53im\n",
       "  1.8444413529644624e56 + 1.1066598160933247e56im"
      ]
     },
     "execution_count": 7,
     "metadata": {},
     "output_type": "execute_result"
    }
   ],
   "source": [
    "sol.eigval_pert[Symbol(\"τ/Taylor\")]"
   ]
  },
  {
   "cell_type": "markdown",
   "metadata": {},
   "source": [
    "We can use these values to form the Taylor-series approximation and for\n",
    "convenience we can just do so by calling to the solution object itself.\n",
    "For instance let's assume we would like to approximate the value of the\n",
    "eigenfrequency when \"τ==0.00125\" based on the 20th order series expansion."
   ]
  },
  {
   "cell_type": "code",
   "execution_count": 5,
   "metadata": {},
   "outputs": [
    {
     "data": {
      "text/plain": [
       "1710.8641999717368 + 9.593830019669932im"
      ]
     },
     "execution_count": 5,
     "metadata": {},
     "output_type": "execute_result"
    }
   ],
   "source": [
    "Δ=0.00001\n",
    "ω_approx=sol(:τ,τ+Δ,20)"
   ]
  },
  {
   "cell_type": "markdown",
   "metadata": {},
   "source": [
    "Let's compare this value to the true solution:"
   ]
  },
  {
   "cell_type": "code",
   "execution_count": 6,
   "metadata": {},
   "outputs": [
    {
     "name": "stdout",
     "output_type": "stream",
     "text": [
      "Launching Householder...\n",
      "Iter    Res:     dz:     z:\n",
      "----------------------------------\n",
      "0\t\tInf\tInf\t2136.2830044410593\n",
      "1\t\t1.623778519161384e6\t382.57794209467136\t1753.7917372224454 + 8.143235161319367im\n",
      "2\t\t147393.3700244174\t42.419892790390364\t1711.395624822153 + 9.563431517456596im\n",
      "3\t\t1803.9831279743273\t0.5322099000437782\t1710.8642832754622 + 9.593821293119722im\n",
      "4\t\t0.283822856662201\t8.375955651404198e-5\t1710.864199971736 + 9.593830019661011im\n",
      "5\t\t6.251839010789878e-8\t1.8483777533157128e-11\t1710.8641999717524 + 9.593830019669593im\n",
      "6\t\t1.2566139001166132e-8\t3.677060802916394e-12\t1710.864199971756 + 9.593830019670127im\n",
      "Warning: Slow convergence!\n",
      "...finished Householder!\n",
      "#####################\n",
      " Householder results \n",
      "#####################\n",
      "Number of steps: 6\n",
      "Last step parameter variation:3.677060802916394e-12\n",
      "Auxiliary eigenvalue λ residual (rhs):1.2566139001166132e-8\n",
      "Eigenvalue:1710.864199971756 + 9.593830019670127im\n",
      "Eigenvalue/(2*pi):272.2924943844659 + 1.5269054708139163im\n",
      " exact=272.2924943844659 + 1.5269054708139163im  vs  approx=272.2924943844628 + 1.5269054708138852im)\n"
     ]
    }
   ],
   "source": [
    "L.params[:τ]=τ+Δ #change parameter\n",
    "sol_exact,nn,flag=householder(L,340*2*pi,maxiter=20,tol=1E-11) #solve again\n",
    "ω_exact=sol_exact.params[:ω]\n",
    "println(\" exact=$(ω_exact/2/pi)  vs  approx=$(ω_approx/2/pi))\")"
   ]
  },
  {
   "cell_type": "markdown",
   "metadata": {},
   "source": [
    "Clearly, the approximation matches the first 4 digits after the point!"
   ]
  },
  {
   "cell_type": "markdown",
   "metadata": {},
   "source": [
    "We can also compute the approximation at any lower order than 20.\n",
    "For instance, the first-order approximation is:"
   ]
  },
  {
   "cell_type": "code",
   "execution_count": 8,
   "metadata": {},
   "outputs": [
    {
     "name": "stdout",
     "output_type": "stream",
     "text": [
      " first-order approx=272.4515667269969 + 1.508301985260934im\n"
     ]
    }
   ],
   "source": [
    "ω_approx=sol(:τ,τ+Δ,1)\n",
    "println(\" first-order approx=$(ω_approx/2/pi)\")"
   ]
  },
  {
   "cell_type": "markdown",
   "metadata": {},
   "source": [
    "Note that the accuracy is less than at twentieth order.\n",
    "\n",
    "Also note that we cannot compute the perturbation at higher order than 20\n",
    "because we have only computed the Taylor series coefficients up to 20th order.\n",
    "Of course we could, prepare higher order coefficients, let's say up to 30th\n",
    "order by"
   ]
  },
  {
   "cell_type": "code",
   "execution_count": 9,
   "metadata": {},
   "outputs": [
    {
     "name": "stdout",
     "output_type": "stream",
     "text": [
      "order: 1, time: 0.022557973861694336\n",
      "order: 2, time: 0.028818130493164062\n",
      "order: 3, time: 0.03693509101867676\n",
      "order: 4, time: 0.04986906051635742\n",
      "order: 5, time: 0.07743716239929199\n",
      "order: 6, time: 0.10853910446166992\n",
      "order: 7, time: 0.13708996772766113\n",
      "order: 8, time: 0.18765902519226074\n",
      "order: 9, time: 0.24693608283996582\n",
      "order: 10, time: 0.3387761116027832\n",
      "order: 11, time: 0.44678807258605957\n",
      "order: 12, time: 0.6233570575714111\n",
      "order: 13, time: 0.872495174407959\n",
      "order: 14, time: 1.2278120517730713\n",
      "order: 15, time: 1.6134400367736816\n",
      "order: 16, time: 2.115550994873047\n",
      "order: 17, time: 2.6285011768341064\n",
      "order: 18, time: 3.3662450313568115\n",
      "order: 19, time: 4.238720178604126\n",
      "order: 20, time: 5.417253017425537\n",
      "order: 21, time: 6.968240976333618\n",
      "order: 22, time: 9.01108717918396\n",
      "order: 23, time: 11.619636058807373\n",
      "order: 24, time: 15.123805046081543\n",
      "order: 25, time: 19.599322080612183\n",
      "order: 26, time: 25.285834074020386\n",
      "order: 27, time: 32.59842801094055\n",
      "order: 28, time: 42.111308097839355\n",
      "order: 29, time: 54.1449761390686\n",
      "order: 30, time: 69.18081998825073\n"
     ]
    }
   ],
   "source": [
    "perturb_fast!(sol,L,:τ,30)"
   ]
  },
  {
   "cell_type": "markdown",
   "metadata": {},
   "source": [
    "and then"
   ]
  },
  {
   "cell_type": "code",
   "execution_count": 10,
   "metadata": {},
   "outputs": [
    {
     "name": "stdout",
     "output_type": "stream",
     "text": [
      " 30th-order approx=272.4512688913611 + 1.5065029271777874im\n"
     ]
    }
   ],
   "source": [
    "ω_approx=sol(:τ,τ+Δ,30)\n",
    "println(\" 30th-order approx=$(ω_approx/2/pi)\")"
   ]
  },
  {
   "cell_type": "markdown",
   "metadata": {},
   "source": [
    "Indeed, `30` is a special limit because per default the WavesAndEigenvalues\n",
    "package installs the perturbation algorithm on your machine up to 30th order.\n",
    "This is because higher orders would consume significantly more memory in\n",
    "the installation directory and also the computation of higher orders may take\n",
    "some time.  However, if you really want to use higher orders. You can rebuild\n",
    "your package by first setting a special environment variable to your desired\n",
    "order -- say 40 -- by `ENV[\"JULIA_WAE_PERT_ORDER\"]=40` and then run\n",
    "`Pkg.build(\"WavesAndEigenvalues\")`\n",
    "Note, that if you don't make the environment variable permanent,\n",
    "these steps will be necessary once every time you got any update to the\n",
    "package from julias package manager."
   ]
  },
  {
   "cell_type": "code",
   "execution_count": 11,
   "metadata": {},
   "outputs": [],
   "source": [
    "#TODO: Padé, speed, conv_radius"
   ]
  },
  {
   "cell_type": "markdown",
   "metadata": {},
   "source": [
    "Ok, we've seen how we can compute Taylor-series coefficients and how to\n",
    "evaluate them as a Taylor series. But how do we choose parameters like\n",
    "the baseline set-up or the eprturbation order to get a reasonable estimate?\n",
    "Well there is a lot you can do but, unfornately, there are a lot of\n",
    "misunderstandings when it comes to the quality perturbative approximations.\n",
    "\n",
    "Take a second and try to answer the following questions:\n",
    "1. What is the range of Δ in which you can expect reliable results from\n",
    "the approximation, i.e., the difference from the true solution is small?\n",
    "2. How does the quality of your approximation improve if you increase the\n",
    "number of known derivatives?\n",
    "3. What else can you do to improve your solution?\n",
    "\n",
    "Regarding the first question, many people misbelieve that the approximation is\n",
    "good as long as Δ (the shift from the expansion point) is small. This is right\n",
    "and wrong at the same time. Indeed, to classify Δ as small, you need to\n",
    "compare it agains some value. For Taylor series this is the radius of\n",
    "convergence. Convergence radii can be quite huge and sometimes super small.\n",
    "Also keep in mind that the nuemrical value of Δ in most engineering\n",
    "applications is meaningless if it is not linked to some unit of measure.\n",
    "(You know the joke: What is larger, 1 km or a million mm?)"
   ]
  },
  {
   "cell_type": "markdown",
   "metadata": {},
   "source": [
    "So how do we get the radius of convergence? It's as simple like"
   ]
  },
  {
   "cell_type": "code",
   "execution_count": 12,
   "metadata": {},
   "outputs": [
    {
     "data": {
      "text/plain": [
       "30-element Array{Float64,1}:\n",
       " 0.014571122174149822\n",
       " 0.0010248272332944286\n",
       " 0.0014999584244220145\n",
       " 0.0020289441884251895\n",
       " 0.0016357263023061576\n",
       " 0.000708225140874304\n",
       " 0.0008838641300182804\n",
       " 0.0011994157853873137\n",
       " 0.0015466591161431436\n",
       " 0.001009701567329566\n",
       " 0.0007140149599831477\n",
       " 0.000922996311971907\n",
       " 0.0011524432243893966\n",
       " ⋮\n",
       " 0.0010724059790236929\n",
       " 0.0009194340436461991\n",
       " 0.0008946495288799059\n",
       " 0.0009724034710172647\n",
       " 0.0011447898954301161\n",
       " 0.0010453439687707167\n",
       " 0.0008677597554851435\n",
       " 0.0009263400643087007\n",
       " 0.0009868297577412155\n",
       " 0.0010468111645774323\n",
       " 0.0010306624013915356\n",
       " 0.0008798274754933992"
      ]
     },
     "execution_count": 12,
     "metadata": {},
     "output_type": "execute_result"
    }
   ],
   "source": [
    "r=conv_radius(sol,:τ)\n",
    "#The return value here is an array that holds N-1 values, where N is the order"
   ]
  },
  {
   "cell_type": "markdown",
   "metadata": {},
   "source": [
    "of Taylor-series coefficients that have been computed for `:τ`. This is\n",
    "because the convergenvce radius is estimated based on the ratio of two\n",
    "consecutive Taylor-series coefficients. Usually, the last entry of r should\n",
    "give you the best approximate."
   ]
  },
  {
   "cell_type": "code",
   "execution_count": 13,
   "metadata": {},
   "outputs": [
    {
     "name": "stdout",
     "output_type": "stream",
     "text": [
      "Best estimate available: r=0.0008798274754933992\n"
     ]
    }
   ],
   "source": [
    "println(\"Best estimate available: r=$(r[end])\")"
   ]
  },
  {
   "cell_type": "markdown",
   "metadata": {},
   "source": [
    "However, there are cases where the estimation procedure for the convergence\n",
    "radius is not appropriate. That is why you can have a look on the other entries\n",
    "in r to judge whether there is smooth convergence.\n",
    "Let's see what's happening if we evaluate the Taylor series beyond it's radius\n",
    "of convergence."
   ]
  },
  {
   "cell_type": "code",
   "execution_count": 14,
   "metadata": {},
   "outputs": [
    {
     "name": "stdout",
     "output_type": "stream",
     "text": [
      "Launching Householder...\n",
      "Iter    Res:     dz:     z:\n",
      "----------------------------------\n",
      "0\t\tInf\tInf\t2136.2830044410593\n",
      "1\t\t1.6737160045312347e6\t390.56818561491536\t1745.8261131206536 - 9.323284557056754im\n",
      "2\t\t135881.95640391385\t37.975308809095104\t1707.8511237381867 - 9.167526579212753im\n",
      "3\t\t1393.9604180540105\t0.3976932811125874\t1707.456569224424 - 9.11765994195433im\n",
      "4\t\t0.15434691496937444\t4.404423515376954e-5\t1707.4565281774587 - 9.117643971941812im\n",
      "5\t\t5.699345277176264e-9\t1.5559141903449318e-12\t1707.4565281774599 - 9.11764397194075im\n",
      "Warning: Slow convergence!\n",
      "...finished Householder!\n",
      "#####################\n",
      " Householder results \n",
      "#####################\n",
      "Number of steps: 5\n",
      "Last step parameter variation:1.5559141903449318e-12\n",
      "Auxiliary eigenvalue λ residual (rhs):5.699345277176264e-9\n",
      "Eigenvalue:1707.4565281774599 - 9.11764397194075im\n",
      "Eigenvalue/(2*pi):271.75014657396883 - 1.4511181074863926im\n",
      " exact=271.75014657396883 - 1.4511181074863926im  vs  approx=-777965.8462191146 - 783623.5455555173im)\n"
     ]
    }
   ],
   "source": [
    "ω_approx=sol(:τ,τ+r[end]+0.001,20)\n",
    "L.params[:τ]=τ+r[end]+0.001\n",
    "sol_exact,nn,flag=householder(L,340*2*pi,maxiter=20,tol=1E-11) #solve again\n",
    "ω_exact=sol_exact.params[:ω]\n",
    "println(\" exact=$(ω_exact/2/pi)  vs  approx=$(ω_approx/2/pi))\")"
   ]
  },
  {
   "cell_type": "markdown",
   "metadata": {},
   "source": [
    "Outch, the approximation is completely off.\n",
    "Remember question 2? Maybe the estimate gets better if we increase the\n",
    "perturbation order ? At least the last time we've seen an improvement.\n",
    "But this time..."
   ]
  },
  {
   "cell_type": "code",
   "execution_count": 14,
   "metadata": {},
   "outputs": [
    {
     "name": "stdout",
     "output_type": "stream",
     "text": [
      " exact=271.75014657396883 - 1.4511181074863926im  vs  approx=3.9380584235293037e8 - 6.32156174019385e8im)\n"
     ]
    }
   ],
   "source": [
    "ω_approx=sol(:τ,τ+r[end]+0.001,30)\n",
    "println(\" exact=$(ω_exact/2/pi)  vs  approx=$(ω_approx/2/pi))\")"
   ]
  },
  {
   "cell_type": "markdown",
   "metadata": {},
   "source": [
    "things get *way' worse! This is exaclty the reason why some clever person\n",
    "named r the radius of *convergence*. Beyond that radius we cannot make the\n",
    "Taylor-series converge without shifting the expansion point. You might think:\n",
    "'Well, then let's shift the expansion point!' While this is definitely a valid\n",
    "approach, there is something better you can do..."
   ]
  },
  {
   "cell_type": "markdown",
   "metadata": {},
   "source": [
    "## Series accelartion by Padé approximation\n",
    "\n",
    "The Taylor-series cannot converge beyond its radius of convergence. So why\n",
    "not trying someting else than a Taylor-series?. The truncated Taylor series is\n",
    "a polynomial approximation to our unknown relation ω=ω(τ). An alternative\n",
    "(if not to say a generalazation) of this approach is to consider rational\n",
    "polynomial approximations.  So isntead of\n",
    "f(x0+Δ)≈∑_n=0^N f_n(x0)Δ^n\n",
    "we try something like\n",
    "f(x0+Δ)≈[ ∑_l=0^L a_l(x0)Δ^l ] / [ 1 + ∑_m=0^M b_m(x0)Δ^m ]\n",
    "In order to get the same asymptotic behaviour close to our expansion point, we\n",
    "demand that the truncated Taylor series expansion of our Padé approximant is\n",
    "identical to the approximation of our unknown function. Here comes the clou\n",
    "we already know these values because we computed the Taylor-series\n",
    "coefficients. Only little algebra is needed to convert the Taylor coefficients\n",
    "to Padé coefficients and all of this is build in to solution type. All you\n",
    "need to know is that the number of Padé coefficients is related to the number\n",
    "of Taylor coefficients by the simple formula L+M=N. Let's give it a try and\n",
    "compute the Padé approximant for L=M=10 (a so-called diagonal Padé\n",
    "approximant). This is just achieve by an extra argument for the call to our\n",
    "solution object."
   ]
  },
  {
   "cell_type": "code",
   "execution_count": 15,
   "metadata": {},
   "outputs": [
    {
     "name": "stdout",
     "output_type": "stream",
     "text": [
      " exact=271.75014657396883 - 1.4511181074863926im  vs  approx=272.38521958672044 - 15.664405510782343im)\n"
     ]
    }
   ],
   "source": [
    "ω_approx=sol(:τ,τ+r[end]+0.001,10,10)\n",
    "println(\" exact=$(ω_exact/2/pi)  vs  approx=$(ω_approx/2/pi))\")"
   ]
  },
  {
   "cell_type": "markdown",
   "metadata": {},
   "source": [
    "Wow! There is now only a diffrence of about 1hz between the true solution and\n",
    "it's estimate. I'would say that's fine for many egineering applications.\n",
    "What's your opinion?\n",
    "## Conclusion\n",
    "You learned how to use perturbation theory. The main computational costs for\n",
    "this approach is the computation of Taylor-series coefficients. Once you have\n",
    "them everything comes down to ta few evaluations of scalar polynomials.\n",
    "Especially, when you like to rapidly evalaute your model for a bunch of values\n",
    "in a given parameter range. This approach should speed up your computations.\n",
    "\n",
    "The next tutorial will familiarize you with the use of higher order\n",
    "finite elements."
   ]
  },
  {
   "cell_type": "markdown",
   "metadata": {},
   "source": [
    "---\n",
    "\n",
    "*This notebook was generated using [Literate.jl](https://github.com/fredrikekre/Literate.jl).*"
   ]
  }
 ],
 "metadata": {
  "kernelspec": {
   "display_name": "Julia 1.4.0",
   "language": "julia",
   "name": "julia-1.4"
  },
  "language_info": {
   "file_extension": ".jl",
   "mimetype": "application/julia",
   "name": "julia",
   "version": "1.4.0"
  }
 },
 "nbformat": 4,
 "nbformat_minor": 3
}
